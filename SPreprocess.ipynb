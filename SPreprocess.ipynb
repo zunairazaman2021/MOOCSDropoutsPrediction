{
 "cells": [
  {
   "cell_type": "code",
   "execution_count": 1,
   "metadata": {},
   "outputs": [
    {
     "name": "stdout",
     "output_type": "stream",
     "text": [
      "(225642, 26)\n"
     ]
    }
   ],
   "source": [
    "import pandas as pd\n",
    "import numpy as np\n",
    "import pickle as pkl\n",
    "import math\n",
    "from sklearn.preprocessing import StandardScaler\n",
    "\n",
    "train_feat= pd.read_csv('Datasets/train_features.csv', index_col=0)\n",
    "test_feat= pd.read_csv('Datasets/test_features.csv', index_col=0)\n",
    "all_feat = pd.concat([train_feat, test_feat])\n",
    "\n",
    "user_profile = pd.read_csv('Datasets/user_info.csv',\n",
    "                           delimiter=',',\n",
    "                           index_col='user_id',\n",
    "                           na_values='',\n",
    "                           dtype=str)\n",
    "\n",
    "user_profile['birth'] = pd.to_numeric(user_profile['birth'], errors='coerce')\n",
    "\n",
    "# extract user age\n",
    "birth_year = user_profile['birth'].to_dict()\n",
    "def age_convert(y):\n",
    "    if y == None or math.isnan(y):\n",
    "        return 0\n",
    "    a = 2018 - int(y)\n",
    "    if a> 70 or a< 10:\n",
    "        a = 0\n",
    "    return a\n",
    "\n",
    "all_feat['age'] = [age_convert(birth_year.get(int(u),None)) for u in all_feat['username']]\n",
    "\n",
    "# extract user gender\n",
    "user_gender = user_profile['gender'].to_dict()\n",
    "def gender_convert(g):\n",
    "    if g == 'male':\n",
    "        return 1\n",
    "    elif g == 'female':\n",
    "        return 2\n",
    "    else:\n",
    "        return 0\n",
    "\n",
    "\n",
    "all_feat['gender'] = [gender_convert(user_gender.get(int(u),None)) for u in all_feat['username']]\n",
    "\n",
    "user_edu = user_profile['education'].to_dict()\n",
    "def edu_convert(x):\n",
    "    edus = [\"Bachelor's\",\"High\", \"Master's\", \"Primary\", \"Middle\",\"Associate\",\"Doctorate\"]\n",
    "    #if x == None or or math.isnan(x):\n",
    "    #    return 0\n",
    "    if not isinstance(x, str):\n",
    "        return 0\n",
    "    ii = edus.index(x)\n",
    "    return ii+1\n",
    "\n",
    "all_feat['education'] = [edu_convert(user_edu.get(int(u), None)) for u in all_feat['username']]\n",
    "\n",
    "\n",
    "\n",
    "user_enroll_num = all_feat.groupby('username').count()[['course_id']]\n",
    "course_enroll_num = all_feat.groupby('course_id').count()[['username']]\n",
    "\n",
    "user_enroll_num.columns = ['user_enroll_num']\n",
    "course_enroll_num.columns = ['course_enroll_num']\n",
    "\n",
    "all_feat = pd.merge(all_feat, user_enroll_num, left_on = 'username', right_index = True)\n",
    "all_feat = pd.merge(all_feat, course_enroll_num, left_on='course_id', right_index=True)\n",
    "\n",
    "#extract user cluster\n",
    "user_cluster_id = pkl.load(open('cluster/user_dict','rb'), encoding='latin-1')\n",
    "cluster_label = np.load('cluster/label_5_10time.npy')\n",
    "all_feat['cluster_label'] = [cluster_label[user_cluster_id[u]] for u in all_feat['username']]\n",
    "\n",
    "\n",
    "#extract course category\n",
    "courseinfo = pd.read_csv('Datasets/course_info.csv', index_col='id')\n",
    "en_categorys = ['math','physics','electrical', 'computer','foreign language', 'business', 'economics',\n",
    "                'biology','medicine','literature','philosophy','history','social science', 'art','engineering',\n",
    "                'education','environment','chemistry']\n",
    "\n",
    "def category_convert(cc):\n",
    "    if isinstance(cc, str):\n",
    "        for i, c in zip(range(len(en_categorys)), en_categorys):\n",
    "            if cc == c:\n",
    "                return i+1\n",
    "    else:\n",
    "        return 0\n",
    "category_dict = courseinfo['category'].to_dict()\n",
    "\n",
    "all_feat['course_category'] = [category_convert(category_dict.get(str(x), None)) for x in all_feat['course_id']]\n",
    "\n",
    "act_feats = [c for c in train_feat.columns if 'count' in c or 'time' in c or 'num' in c]\n",
    "\n",
    "pkl.dump(act_feats, open('act_feats.pkl','wb'))\n",
    "\n",
    "num_feats = act_feats + ['age','course_enroll_num','user_enroll_num']\n",
    "scaler= StandardScaler()\n",
    "newX = scaler.fit_transform(all_feat[num_feats])\n",
    "print(newX.shape)\n",
    "for i, n_f in enumerate(num_feats):\n",
    "    all_feat[n_f] = newX[:,i]   \n",
    "\n",
    "all_feat.loc[train_feat.index].to_csv('SVMData/train_feat.csv')\n",
    "all_feat.loc[test_feat.index].to_csv('SVMData/test_feat.csv')\n",
    "\n"
   ]
  },
  {
   "cell_type": "code",
   "execution_count": 3,
   "metadata": {},
   "outputs": [
    {
     "ename": "KeyError",
     "evalue": "'id'",
     "output_type": "error",
     "traceback": [
      "\u001b[1;31m---------------------------------------------------------------------------\u001b[0m",
      "\u001b[1;31mKeyError\u001b[0m                                  Traceback (most recent call last)",
      "\u001b[1;32m~\\anaconda3\\lib\\site-packages\\pandas\\core\\indexes\\base.py\u001b[0m in \u001b[0;36mget_loc\u001b[1;34m(self, key, method, tolerance)\u001b[0m\n\u001b[0;32m   2894\u001b[0m             \u001b[1;32mtry\u001b[0m\u001b[1;33m:\u001b[0m\u001b[1;33m\u001b[0m\u001b[1;33m\u001b[0m\u001b[0m\n\u001b[1;32m-> 2895\u001b[1;33m                 \u001b[1;32mreturn\u001b[0m \u001b[0mself\u001b[0m\u001b[1;33m.\u001b[0m\u001b[0m_engine\u001b[0m\u001b[1;33m.\u001b[0m\u001b[0mget_loc\u001b[0m\u001b[1;33m(\u001b[0m\u001b[0mcasted_key\u001b[0m\u001b[1;33m)\u001b[0m\u001b[1;33m\u001b[0m\u001b[1;33m\u001b[0m\u001b[0m\n\u001b[0m\u001b[0;32m   2896\u001b[0m             \u001b[1;32mexcept\u001b[0m \u001b[0mKeyError\u001b[0m \u001b[1;32mas\u001b[0m \u001b[0merr\u001b[0m\u001b[1;33m:\u001b[0m\u001b[1;33m\u001b[0m\u001b[1;33m\u001b[0m\u001b[0m\n",
      "\u001b[1;32mpandas\\_libs\\index.pyx\u001b[0m in \u001b[0;36mpandas._libs.index.IndexEngine.get_loc\u001b[1;34m()\u001b[0m\n",
      "\u001b[1;32mpandas\\_libs\\index.pyx\u001b[0m in \u001b[0;36mpandas._libs.index.IndexEngine.get_loc\u001b[1;34m()\u001b[0m\n",
      "\u001b[1;32mpandas\\_libs\\hashtable_class_helper.pxi\u001b[0m in \u001b[0;36mpandas._libs.hashtable.PyObjectHashTable.get_item\u001b[1;34m()\u001b[0m\n",
      "\u001b[1;32mpandas\\_libs\\hashtable_class_helper.pxi\u001b[0m in \u001b[0;36mpandas._libs.hashtable.PyObjectHashTable.get_item\u001b[1;34m()\u001b[0m\n",
      "\u001b[1;31mKeyError\u001b[0m: 'id'",
      "\nThe above exception was the direct cause of the following exception:\n",
      "\u001b[1;31mKeyError\u001b[0m                                  Traceback (most recent call last)",
      "\u001b[1;32m<ipython-input-3-38074bc8bd8e>\u001b[0m in \u001b[0;36m<module>\u001b[1;34m\u001b[0m\n\u001b[0;32m      8\u001b[0m \u001b[0mcategory_dict\u001b[0m \u001b[1;33m=\u001b[0m \u001b[0mcourseinfo\u001b[0m\u001b[1;33m[\u001b[0m\u001b[1;34m'category'\u001b[0m\u001b[1;33m]\u001b[0m\u001b[1;33m.\u001b[0m\u001b[0mto_dict\u001b[0m\u001b[1;33m(\u001b[0m\u001b[1;33m)\u001b[0m\u001b[1;33m\u001b[0m\u001b[1;33m\u001b[0m\u001b[0m\n\u001b[0;32m      9\u001b[0m \u001b[1;33m\u001b[0m\u001b[0m\n\u001b[1;32m---> 10\u001b[1;33m \u001b[0mall_feat\u001b[0m\u001b[1;33m[\u001b[0m\u001b[1;34m'course_category'\u001b[0m\u001b[1;33m]\u001b[0m \u001b[1;33m=\u001b[0m \u001b[1;33m[\u001b[0m\u001b[0mcategory_convertt\u001b[0m\u001b[1;33m(\u001b[0m\u001b[0mcategory_dict\u001b[0m\u001b[1;33m.\u001b[0m\u001b[0mget\u001b[0m\u001b[1;33m(\u001b[0m\u001b[0mstr\u001b[0m\u001b[1;33m(\u001b[0m\u001b[0mx\u001b[0m\u001b[1;33m)\u001b[0m\u001b[1;33m,\u001b[0m \u001b[1;32mNone\u001b[0m\u001b[1;33m)\u001b[0m\u001b[1;33m)\u001b[0m \u001b[1;32mfor\u001b[0m \u001b[0mx\u001b[0m \u001b[1;32min\u001b[0m \u001b[0mall_feat\u001b[0m\u001b[1;33m[\u001b[0m\u001b[1;34m'id'\u001b[0m\u001b[1;33m]\u001b[0m\u001b[1;33m]\u001b[0m\u001b[1;33m\u001b[0m\u001b[1;33m\u001b[0m\u001b[0m\n\u001b[0m",
      "\u001b[1;32m~\\anaconda3\\lib\\site-packages\\pandas\\core\\frame.py\u001b[0m in \u001b[0;36m__getitem__\u001b[1;34m(self, key)\u001b[0m\n\u001b[0;32m   2900\u001b[0m             \u001b[1;32mif\u001b[0m \u001b[0mself\u001b[0m\u001b[1;33m.\u001b[0m\u001b[0mcolumns\u001b[0m\u001b[1;33m.\u001b[0m\u001b[0mnlevels\u001b[0m \u001b[1;33m>\u001b[0m \u001b[1;36m1\u001b[0m\u001b[1;33m:\u001b[0m\u001b[1;33m\u001b[0m\u001b[1;33m\u001b[0m\u001b[0m\n\u001b[0;32m   2901\u001b[0m                 \u001b[1;32mreturn\u001b[0m \u001b[0mself\u001b[0m\u001b[1;33m.\u001b[0m\u001b[0m_getitem_multilevel\u001b[0m\u001b[1;33m(\u001b[0m\u001b[0mkey\u001b[0m\u001b[1;33m)\u001b[0m\u001b[1;33m\u001b[0m\u001b[1;33m\u001b[0m\u001b[0m\n\u001b[1;32m-> 2902\u001b[1;33m             \u001b[0mindexer\u001b[0m \u001b[1;33m=\u001b[0m \u001b[0mself\u001b[0m\u001b[1;33m.\u001b[0m\u001b[0mcolumns\u001b[0m\u001b[1;33m.\u001b[0m\u001b[0mget_loc\u001b[0m\u001b[1;33m(\u001b[0m\u001b[0mkey\u001b[0m\u001b[1;33m)\u001b[0m\u001b[1;33m\u001b[0m\u001b[1;33m\u001b[0m\u001b[0m\n\u001b[0m\u001b[0;32m   2903\u001b[0m             \u001b[1;32mif\u001b[0m \u001b[0mis_integer\u001b[0m\u001b[1;33m(\u001b[0m\u001b[0mindexer\u001b[0m\u001b[1;33m)\u001b[0m\u001b[1;33m:\u001b[0m\u001b[1;33m\u001b[0m\u001b[1;33m\u001b[0m\u001b[0m\n\u001b[0;32m   2904\u001b[0m                 \u001b[0mindexer\u001b[0m \u001b[1;33m=\u001b[0m \u001b[1;33m[\u001b[0m\u001b[0mindexer\u001b[0m\u001b[1;33m]\u001b[0m\u001b[1;33m\u001b[0m\u001b[1;33m\u001b[0m\u001b[0m\n",
      "\u001b[1;32m~\\anaconda3\\lib\\site-packages\\pandas\\core\\indexes\\base.py\u001b[0m in \u001b[0;36mget_loc\u001b[1;34m(self, key, method, tolerance)\u001b[0m\n\u001b[0;32m   2895\u001b[0m                 \u001b[1;32mreturn\u001b[0m \u001b[0mself\u001b[0m\u001b[1;33m.\u001b[0m\u001b[0m_engine\u001b[0m\u001b[1;33m.\u001b[0m\u001b[0mget_loc\u001b[0m\u001b[1;33m(\u001b[0m\u001b[0mcasted_key\u001b[0m\u001b[1;33m)\u001b[0m\u001b[1;33m\u001b[0m\u001b[1;33m\u001b[0m\u001b[0m\n\u001b[0;32m   2896\u001b[0m             \u001b[1;32mexcept\u001b[0m \u001b[0mKeyError\u001b[0m \u001b[1;32mas\u001b[0m \u001b[0merr\u001b[0m\u001b[1;33m:\u001b[0m\u001b[1;33m\u001b[0m\u001b[1;33m\u001b[0m\u001b[0m\n\u001b[1;32m-> 2897\u001b[1;33m                 \u001b[1;32mraise\u001b[0m \u001b[0mKeyError\u001b[0m\u001b[1;33m(\u001b[0m\u001b[0mkey\u001b[0m\u001b[1;33m)\u001b[0m \u001b[1;32mfrom\u001b[0m \u001b[0merr\u001b[0m\u001b[1;33m\u001b[0m\u001b[1;33m\u001b[0m\u001b[0m\n\u001b[0m\u001b[0;32m   2898\u001b[0m \u001b[1;33m\u001b[0m\u001b[0m\n\u001b[0;32m   2899\u001b[0m         \u001b[1;32mif\u001b[0m \u001b[0mtolerance\u001b[0m \u001b[1;32mis\u001b[0m \u001b[1;32mnot\u001b[0m \u001b[1;32mNone\u001b[0m\u001b[1;33m:\u001b[0m\u001b[1;33m\u001b[0m\u001b[1;33m\u001b[0m\u001b[0m\n",
      "\u001b[1;31mKeyError\u001b[0m: 'id'"
     ]
    }
   ],
   "source": [
    "\n",
    "def category_convertt(cc):\n",
    "    if isinstance(cc, str):\n",
    "        for i, c in zip(range(len(en_categorys)), en_categorys):\n",
    "            if cc == c:\n",
    "                return i+1\n",
    "    else:\n",
    "        return 0\n",
    "category_dict = courseinfo['category'].to_dict()\n",
    "\n",
    "all_feat['course_category'] = [category_convertt(category_dict.get(str(x), None)) for x in all_feat['id']]"
   ]
  },
  {
   "cell_type": "code",
   "execution_count": 61,
   "metadata": {},
   "outputs": [
    {
     "data": {
      "text/plain": [
       "array([0], dtype=int64)"
      ]
     },
     "execution_count": 61,
     "metadata": {},
     "output_type": "execute_result"
    }
   ],
   "source": [
    "all_feat['course_category'].unique()"
   ]
  },
  {
   "cell_type": "code",
   "execution_count": null,
   "metadata": {},
   "outputs": [],
   "source": []
  },
  {
   "cell_type": "code",
   "execution_count": null,
   "metadata": {},
   "outputs": [],
   "source": []
  }
 ],
 "metadata": {
  "kernelspec": {
   "display_name": "Python 3",
   "language": "python",
   "name": "python3"
  },
  "language_info": {
   "codemirror_mode": {
    "name": "ipython",
    "version": 3
   },
   "file_extension": ".py",
   "mimetype": "text/x-python",
   "name": "python",
   "nbconvert_exporter": "python",
   "pygments_lexer": "ipython3",
   "version": "3.8.5"
  }
 },
 "nbformat": 4,
 "nbformat_minor": 4
}
