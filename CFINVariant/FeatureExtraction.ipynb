{
 "cells": [
  {
   "cell_type": "code",
   "execution_count": null,
   "metadata": {},
   "outputs": [],
   "source": [
    "import pandas as pd\n",
    "\n",
    "train = pd.read_csv('prediction_log/train_log.csv')\n",
    "test = pd.read_csv('prediction_log/test_log.csv')\n",
    "train_truth = pd.read_csv('prediction_log/train_truth.csv', index_col='enroll_id')\n",
    "test_truth = pd.read_csv('prediction_log/test_truth.csv', index_col='enroll_id')\n",
    "all_truth = pd.concat([train_truth, test_truth])\n",
    "all_log = pd.concat([train, test])\n",
    "\n",
    "train_enroll = list(set(list(train['enroll_id'])))\n",
    "\n",
    "test_enroll = list(set(list(test['enroll_id'])))\n",
    "video_action = ['seek_video','play_video','pause_video','stop_video','load_video']\n",
    "problem_action = ['problem_get','problem_check','problem_save','reset_problem','problem_check_correct', 'problem_check_incorrect']\n",
    "forum_action = ['create_thread','create_comment','delete_thread','delete_comment']\n",
    "click_action = ['click_info','click_courseware','click_about','click_forum','click_progress']\n",
    "close_action = ['close_courseware']\n",
    "\n",
    "all_num = all_log.groupby('enroll_id').count()[['action']]\n",
    "all_num.columns = ['all#count']\n",
    "session_enroll = all_log[['session_id']].drop_duplicates()\n",
    "session_num = all_log.groupby('enroll_id').count()\n",
    "all_num['session#count'] = session_num['session_id']\n",
    "for a in video_action + problem_action + forum_action + click_action + close_action:\n",
    "    action_ = (all_log['action'] == a).astype(int)\n",
    "    all_log[a+'#num'] = action_\n",
    "    action_num = all_log.groupby('enroll_id').sum()[[a+'#num']]\n",
    "    all_num = pd.merge(all_num, action_num, left_index=True, right_index=True)\n",
    "all_num = pd.merge(all_num, all_truth, left_index=True, right_index=True)\n",
    "enroll_info = all_log[['username','id','enroll_id']].drop_duplicates()\n",
    "enroll_info.index = enroll_info['enroll_id']\n",
    "del enroll_info['enroll_id']\n",
    "all_num = pd.merge(all_num, enroll_info, left_index=True, right_index=True)\n",
    "all_num.loc[test_enroll].to_csv('SVMData/test_features.csv')\n",
    "all_num.loc[train_enroll].to_csv('SVMData/train_features.csv')\n",
    "\n"
   ]
  },
  {
   "cell_type": "code",
   "execution_count": 4,
   "metadata": {},
   "outputs": [],
   "source": [
    "import pandas as pd\n",
    "\n",
    "train = pd.read_csv('prediction_log/train_log.csv')\n",
    "test = pd.read_csv('prediction_log/test_log.csv')\n",
    "train_truth = pd.read_csv('prediction_log/train_truth.csv', index_col='enroll_id')\n",
    "test_truth = pd.read_csv('prediction_log/test_truth.csv', index_col='enroll_id')\n",
    "all_truth = pd.concat([train_truth, test_truth])\n",
    "all_log = pd.concat([train, test])"
   ]
  },
  {
   "cell_type": "code",
   "execution_count": 5,
   "metadata": {},
   "outputs": [],
   "source": [
    "\n",
    "train_enroll = list(set(list(train['enroll_id'])))\n",
    "\n",
    "test_enroll = list(set(list(test['enroll_id'])))"
   ]
  },
  {
   "cell_type": "code",
   "execution_count": 7,
   "metadata": {},
   "outputs": [],
   "source": [
    "enroll_info = all_log[['username','course_id','enroll_id']].drop_duplicates()"
   ]
  },
  {
   "cell_type": "code",
   "execution_count": null,
   "metadata": {},
   "outputs": [],
   "source": []
  }
 ],
 "metadata": {
  "kernelspec": {
   "display_name": "Python 3",
   "language": "python",
   "name": "python3"
  },
  "language_info": {
   "codemirror_mode": {
    "name": "ipython",
    "version": 3
   },
   "file_extension": ".py",
   "mimetype": "text/x-python",
   "name": "python",
   "nbconvert_exporter": "python",
   "pygments_lexer": "ipython3",
   "version": "3.8.5"
  }
 },
 "nbformat": 4,
 "nbformat_minor": 4
}
